{
 "cells": [
  {
   "cell_type": "code",
   "execution_count": 1,
   "id": "7aa6ddc2",
   "metadata": {},
   "outputs": [
    {
     "data": {
      "text/html": [
       "<div><style>\n",
       ".dataframe > thead > tr > th,\n",
       ".dataframe > tbody > tr > td {\n",
       "  text-align: right;\n",
       "}\n",
       "</style>\n",
       "<small>shape: (21_613, 21)</small><table border=\"1\" class=\"dataframe\"><thead><tr><th>id</th><th>date</th><th>price</th><th>bedrooms</th><th>bathrooms</th><th>sqft_living</th><th>sqft_lot</th><th>floors</th><th>waterfront</th><th>view</th><th>condition</th><th>grade</th><th>sqft_above</th><th>sqft_basement</th><th>yr_built</th><th>yr_renovated</th><th>zipcode</th><th>lat</th><th>long</th><th>sqft_living15</th><th>sqft_lot15</th></tr><tr><td>i64</td><td>str</td><td>f64</td><td>i64</td><td>f64</td><td>i64</td><td>i64</td><td>f64</td><td>i64</td><td>i64</td><td>i64</td><td>i64</td><td>i64</td><td>i64</td><td>i64</td><td>i64</td><td>i64</td><td>f64</td><td>f64</td><td>i64</td><td>i64</td></tr></thead><tbody><tr><td>7129300520</td><td>&quot;20141013T00000…</td><td>221900.0</td><td>3</td><td>1.0</td><td>1180</td><td>5650</td><td>1.0</td><td>0</td><td>0</td><td>3</td><td>7</td><td>1180</td><td>0</td><td>1955</td><td>0</td><td>98178</td><td>47.5112</td><td>-122.257</td><td>1340</td><td>5650</td></tr><tr><td>6414100192</td><td>&quot;20141209T00000…</td><td>538000.0</td><td>3</td><td>2.25</td><td>2570</td><td>7242</td><td>2.0</td><td>0</td><td>0</td><td>3</td><td>7</td><td>2170</td><td>400</td><td>1951</td><td>1991</td><td>98125</td><td>47.721</td><td>-122.319</td><td>1690</td><td>7639</td></tr><tr><td>5631500400</td><td>&quot;20150225T00000…</td><td>180000.0</td><td>2</td><td>1.0</td><td>770</td><td>10000</td><td>1.0</td><td>0</td><td>0</td><td>3</td><td>6</td><td>770</td><td>0</td><td>1933</td><td>0</td><td>98028</td><td>47.7379</td><td>-122.233</td><td>2720</td><td>8062</td></tr><tr><td>2487200875</td><td>&quot;20141209T00000…</td><td>604000.0</td><td>4</td><td>3.0</td><td>1960</td><td>5000</td><td>1.0</td><td>0</td><td>0</td><td>5</td><td>7</td><td>1050</td><td>910</td><td>1965</td><td>0</td><td>98136</td><td>47.5208</td><td>-122.393</td><td>1360</td><td>5000</td></tr><tr><td>1954400510</td><td>&quot;20150218T00000…</td><td>510000.0</td><td>3</td><td>2.0</td><td>1680</td><td>8080</td><td>1.0</td><td>0</td><td>0</td><td>3</td><td>8</td><td>1680</td><td>0</td><td>1987</td><td>0</td><td>98074</td><td>47.6168</td><td>-122.045</td><td>1800</td><td>7503</td></tr><tr><td>7237550310</td><td>&quot;20140512T00000…</td><td>1.225e6</td><td>4</td><td>4.5</td><td>5420</td><td>101930</td><td>1.0</td><td>0</td><td>0</td><td>3</td><td>11</td><td>3890</td><td>1530</td><td>2001</td><td>0</td><td>98053</td><td>47.6561</td><td>-122.005</td><td>4760</td><td>101930</td></tr><tr><td>1321400060</td><td>&quot;20140627T00000…</td><td>257500.0</td><td>3</td><td>2.25</td><td>1715</td><td>6819</td><td>2.0</td><td>0</td><td>0</td><td>3</td><td>7</td><td>1715</td><td>0</td><td>1995</td><td>0</td><td>98003</td><td>47.3097</td><td>-122.327</td><td>2238</td><td>6819</td></tr><tr><td>2008000270</td><td>&quot;20150115T00000…</td><td>291850.0</td><td>3</td><td>1.5</td><td>1060</td><td>9711</td><td>1.0</td><td>0</td><td>0</td><td>3</td><td>7</td><td>1060</td><td>0</td><td>1963</td><td>0</td><td>98198</td><td>47.4095</td><td>-122.315</td><td>1650</td><td>9711</td></tr><tr><td>2414600126</td><td>&quot;20150415T00000…</td><td>229500.0</td><td>3</td><td>1.0</td><td>1780</td><td>7470</td><td>1.0</td><td>0</td><td>0</td><td>3</td><td>7</td><td>1050</td><td>730</td><td>1960</td><td>0</td><td>98146</td><td>47.5123</td><td>-122.337</td><td>1780</td><td>8113</td></tr><tr><td>3793500160</td><td>&quot;20150312T00000…</td><td>323000.0</td><td>3</td><td>2.5</td><td>1890</td><td>6560</td><td>2.0</td><td>0</td><td>0</td><td>3</td><td>7</td><td>1890</td><td>0</td><td>2003</td><td>0</td><td>98038</td><td>47.3684</td><td>-122.031</td><td>2390</td><td>7570</td></tr><tr><td>1736800520</td><td>&quot;20150403T00000…</td><td>662500.0</td><td>3</td><td>2.5</td><td>3560</td><td>9796</td><td>1.0</td><td>0</td><td>0</td><td>3</td><td>8</td><td>1860</td><td>1700</td><td>1965</td><td>0</td><td>98007</td><td>47.6007</td><td>-122.145</td><td>2210</td><td>8925</td></tr><tr><td>9212900260</td><td>&quot;20140527T00000…</td><td>468000.0</td><td>2</td><td>1.0</td><td>1160</td><td>6000</td><td>1.0</td><td>0</td><td>0</td><td>4</td><td>7</td><td>860</td><td>300</td><td>1942</td><td>0</td><td>98115</td><td>47.69</td><td>-122.292</td><td>1330</td><td>6000</td></tr><tr><td>&hellip;</td><td>&hellip;</td><td>&hellip;</td><td>&hellip;</td><td>&hellip;</td><td>&hellip;</td><td>&hellip;</td><td>&hellip;</td><td>&hellip;</td><td>&hellip;</td><td>&hellip;</td><td>&hellip;</td><td>&hellip;</td><td>&hellip;</td><td>&hellip;</td><td>&hellip;</td><td>&hellip;</td><td>&hellip;</td><td>&hellip;</td><td>&hellip;</td><td>&hellip;</td></tr><tr><td>5100403806</td><td>&quot;20150407T00000…</td><td>467000.0</td><td>3</td><td>2.5</td><td>1425</td><td>1179</td><td>3.0</td><td>0</td><td>0</td><td>3</td><td>8</td><td>1425</td><td>0</td><td>2008</td><td>0</td><td>98125</td><td>47.6963</td><td>-122.318</td><td>1285</td><td>1253</td></tr><tr><td>844000965</td><td>&quot;20140626T00000…</td><td>224000.0</td><td>3</td><td>1.75</td><td>1500</td><td>11968</td><td>1.0</td><td>0</td><td>0</td><td>3</td><td>6</td><td>1500</td><td>0</td><td>2014</td><td>0</td><td>98010</td><td>47.3095</td><td>-122.002</td><td>1320</td><td>11303</td></tr><tr><td>7852140040</td><td>&quot;20140825T00000…</td><td>507250.0</td><td>3</td><td>2.5</td><td>2270</td><td>5536</td><td>2.0</td><td>0</td><td>0</td><td>3</td><td>8</td><td>2270</td><td>0</td><td>2003</td><td>0</td><td>98065</td><td>47.5389</td><td>-121.881</td><td>2270</td><td>5731</td></tr><tr><td>9834201367</td><td>&quot;20150126T00000…</td><td>429000.0</td><td>3</td><td>2.0</td><td>1490</td><td>1126</td><td>3.0</td><td>0</td><td>0</td><td>3</td><td>8</td><td>1490</td><td>0</td><td>2014</td><td>0</td><td>98144</td><td>47.5699</td><td>-122.288</td><td>1400</td><td>1230</td></tr><tr><td>3448900210</td><td>&quot;20141014T00000…</td><td>610685.0</td><td>4</td><td>2.5</td><td>2520</td><td>6023</td><td>2.0</td><td>0</td><td>0</td><td>3</td><td>9</td><td>2520</td><td>0</td><td>2014</td><td>0</td><td>98056</td><td>47.5137</td><td>-122.167</td><td>2520</td><td>6023</td></tr><tr><td>7936000429</td><td>&quot;20150326T00000…</td><td>1.0075e6</td><td>4</td><td>3.5</td><td>3510</td><td>7200</td><td>2.0</td><td>0</td><td>0</td><td>3</td><td>9</td><td>2600</td><td>910</td><td>2009</td><td>0</td><td>98136</td><td>47.5537</td><td>-122.398</td><td>2050</td><td>6200</td></tr><tr><td>2997800021</td><td>&quot;20150219T00000…</td><td>475000.0</td><td>3</td><td>2.5</td><td>1310</td><td>1294</td><td>2.0</td><td>0</td><td>0</td><td>3</td><td>8</td><td>1180</td><td>130</td><td>2008</td><td>0</td><td>98116</td><td>47.5773</td><td>-122.409</td><td>1330</td><td>1265</td></tr><tr><td>263000018</td><td>&quot;20140521T00000…</td><td>360000.0</td><td>3</td><td>2.5</td><td>1530</td><td>1131</td><td>3.0</td><td>0</td><td>0</td><td>3</td><td>8</td><td>1530</td><td>0</td><td>2009</td><td>0</td><td>98103</td><td>47.6993</td><td>-122.346</td><td>1530</td><td>1509</td></tr><tr><td>6600060120</td><td>&quot;20150223T00000…</td><td>400000.0</td><td>4</td><td>2.5</td><td>2310</td><td>5813</td><td>2.0</td><td>0</td><td>0</td><td>3</td><td>8</td><td>2310</td><td>0</td><td>2014</td><td>0</td><td>98146</td><td>47.5107</td><td>-122.362</td><td>1830</td><td>7200</td></tr><tr><td>1523300141</td><td>&quot;20140623T00000…</td><td>402101.0</td><td>2</td><td>0.75</td><td>1020</td><td>1350</td><td>2.0</td><td>0</td><td>0</td><td>3</td><td>7</td><td>1020</td><td>0</td><td>2009</td><td>0</td><td>98144</td><td>47.5944</td><td>-122.299</td><td>1020</td><td>2007</td></tr><tr><td>291310100</td><td>&quot;20150116T00000…</td><td>400000.0</td><td>3</td><td>2.5</td><td>1600</td><td>2388</td><td>2.0</td><td>0</td><td>0</td><td>3</td><td>8</td><td>1600</td><td>0</td><td>2004</td><td>0</td><td>98027</td><td>47.5345</td><td>-122.069</td><td>1410</td><td>1287</td></tr><tr><td>1523300157</td><td>&quot;20141015T00000…</td><td>325000.0</td><td>2</td><td>0.75</td><td>1020</td><td>1076</td><td>2.0</td><td>0</td><td>0</td><td>3</td><td>7</td><td>1020</td><td>0</td><td>2008</td><td>0</td><td>98144</td><td>47.5941</td><td>-122.299</td><td>1020</td><td>1357</td></tr></tbody></table></div>"
      ],
      "text/plain": [
       "shape: (21_613, 21)\n",
       "┌────────────┬────────────┬──────────┬──────────┬───┬─────────┬──────────┬────────────┬────────────┐\n",
       "│ id         ┆ date       ┆ price    ┆ bedrooms ┆ … ┆ lat     ┆ long     ┆ sqft_livin ┆ sqft_lot15 │\n",
       "│ ---        ┆ ---        ┆ ---      ┆ ---      ┆   ┆ ---     ┆ ---      ┆ g15        ┆ ---        │\n",
       "│ i64        ┆ str        ┆ f64      ┆ i64      ┆   ┆ f64     ┆ f64      ┆ ---        ┆ i64        │\n",
       "│            ┆            ┆          ┆          ┆   ┆         ┆          ┆ i64        ┆            │\n",
       "╞════════════╪════════════╪══════════╪══════════╪═══╪═════════╪══════════╪════════════╪════════════╡\n",
       "│ 7129300520 ┆ 20141013T0 ┆ 221900.0 ┆ 3        ┆ … ┆ 47.5112 ┆ -122.257 ┆ 1340       ┆ 5650       │\n",
       "│            ┆ 00000      ┆          ┆          ┆   ┆         ┆          ┆            ┆            │\n",
       "│ 6414100192 ┆ 20141209T0 ┆ 538000.0 ┆ 3        ┆ … ┆ 47.721  ┆ -122.319 ┆ 1690       ┆ 7639       │\n",
       "│            ┆ 00000      ┆          ┆          ┆   ┆         ┆          ┆            ┆            │\n",
       "│ 5631500400 ┆ 20150225T0 ┆ 180000.0 ┆ 2        ┆ … ┆ 47.7379 ┆ -122.233 ┆ 2720       ┆ 8062       │\n",
       "│            ┆ 00000      ┆          ┆          ┆   ┆         ┆          ┆            ┆            │\n",
       "│ 2487200875 ┆ 20141209T0 ┆ 604000.0 ┆ 4        ┆ … ┆ 47.5208 ┆ -122.393 ┆ 1360       ┆ 5000       │\n",
       "│            ┆ 00000      ┆          ┆          ┆   ┆         ┆          ┆            ┆            │\n",
       "│ …          ┆ …          ┆ …        ┆ …        ┆ … ┆ …       ┆ …        ┆ …          ┆ …          │\n",
       "│ 6600060120 ┆ 20150223T0 ┆ 400000.0 ┆ 4        ┆ … ┆ 47.5107 ┆ -122.362 ┆ 1830       ┆ 7200       │\n",
       "│            ┆ 00000      ┆          ┆          ┆   ┆         ┆          ┆            ┆            │\n",
       "│ 1523300141 ┆ 20140623T0 ┆ 402101.0 ┆ 2        ┆ … ┆ 47.5944 ┆ -122.299 ┆ 1020       ┆ 2007       │\n",
       "│            ┆ 00000      ┆          ┆          ┆   ┆         ┆          ┆            ┆            │\n",
       "│ 291310100  ┆ 20150116T0 ┆ 400000.0 ┆ 3        ┆ … ┆ 47.5345 ┆ -122.069 ┆ 1410       ┆ 1287       │\n",
       "│            ┆ 00000      ┆          ┆          ┆   ┆         ┆          ┆            ┆            │\n",
       "│ 1523300157 ┆ 20141015T0 ┆ 325000.0 ┆ 2        ┆ … ┆ 47.5941 ┆ -122.299 ┆ 1020       ┆ 1357       │\n",
       "│            ┆ 00000      ┆          ┆          ┆   ┆         ┆          ┆            ┆            │\n",
       "└────────────┴────────────┴──────────┴──────────┴───┴─────────┴──────────┴────────────┴────────────┘"
      ]
     },
     "execution_count": 1,
     "metadata": {},
     "output_type": "execute_result"
    }
   ],
   "source": [
    "import polars as pl\n",
    "\n",
    "data = pl.read_csv(\"data/kc_house_data.csv\")\n",
    "\n",
    "data"
   ]
  },
  {
   "cell_type": "code",
   "execution_count": 2,
   "id": "fcbac9d3",
   "metadata": {},
   "outputs": [
    {
     "data": {
      "text/html": [
       "<div><style>\n",
       ".dataframe > thead > tr > th,\n",
       ".dataframe > tbody > tr > td {\n",
       "  text-align: right;\n",
       "}\n",
       "</style>\n",
       "<small>shape: (3, 21)</small><table border=\"1\" class=\"dataframe\"><thead><tr><th>id</th><th>date</th><th>price</th><th>bedrooms</th><th>bathrooms</th><th>sqft_living</th><th>sqft_lot</th><th>floors</th><th>waterfront</th><th>view</th><th>condition</th><th>grade</th><th>sqft_above</th><th>sqft_basement</th><th>yr_built</th><th>yr_renovated</th><th>zipcode</th><th>lat</th><th>long</th><th>sqft_living15</th><th>sqft_lot15</th></tr><tr><td>i64</td><td>str</td><td>f64</td><td>i64</td><td>f64</td><td>i64</td><td>i64</td><td>f64</td><td>i64</td><td>i64</td><td>i64</td><td>i64</td><td>i64</td><td>i64</td><td>i64</td><td>i64</td><td>i64</td><td>f64</td><td>f64</td><td>i64</td><td>i64</td></tr></thead><tbody><tr><td>7129300520</td><td>&quot;20141013T00000…</td><td>221900.0</td><td>3</td><td>1.0</td><td>1180</td><td>5650</td><td>1.0</td><td>0</td><td>0</td><td>3</td><td>7</td><td>1180</td><td>0</td><td>1955</td><td>0</td><td>98178</td><td>47.5112</td><td>-122.257</td><td>1340</td><td>5650</td></tr><tr><td>6414100192</td><td>&quot;20141209T00000…</td><td>538000.0</td><td>3</td><td>2.25</td><td>2570</td><td>7242</td><td>2.0</td><td>0</td><td>0</td><td>3</td><td>7</td><td>2170</td><td>400</td><td>1951</td><td>1991</td><td>98125</td><td>47.721</td><td>-122.319</td><td>1690</td><td>7639</td></tr><tr><td>5631500400</td><td>&quot;20150225T00000…</td><td>180000.0</td><td>2</td><td>1.0</td><td>770</td><td>10000</td><td>1.0</td><td>0</td><td>0</td><td>3</td><td>6</td><td>770</td><td>0</td><td>1933</td><td>0</td><td>98028</td><td>47.7379</td><td>-122.233</td><td>2720</td><td>8062</td></tr></tbody></table></div>"
      ],
      "text/plain": [
       "shape: (3, 21)\n",
       "┌────────────┬────────────┬──────────┬──────────┬───┬─────────┬──────────┬────────────┬────────────┐\n",
       "│ id         ┆ date       ┆ price    ┆ bedrooms ┆ … ┆ lat     ┆ long     ┆ sqft_livin ┆ sqft_lot15 │\n",
       "│ ---        ┆ ---        ┆ ---      ┆ ---      ┆   ┆ ---     ┆ ---      ┆ g15        ┆ ---        │\n",
       "│ i64        ┆ str        ┆ f64      ┆ i64      ┆   ┆ f64     ┆ f64      ┆ ---        ┆ i64        │\n",
       "│            ┆            ┆          ┆          ┆   ┆         ┆          ┆ i64        ┆            │\n",
       "╞════════════╪════════════╪══════════╪══════════╪═══╪═════════╪══════════╪════════════╪════════════╡\n",
       "│ 7129300520 ┆ 20141013T0 ┆ 221900.0 ┆ 3        ┆ … ┆ 47.5112 ┆ -122.257 ┆ 1340       ┆ 5650       │\n",
       "│            ┆ 00000      ┆          ┆          ┆   ┆         ┆          ┆            ┆            │\n",
       "│ 6414100192 ┆ 20141209T0 ┆ 538000.0 ┆ 3        ┆ … ┆ 47.721  ┆ -122.319 ┆ 1690       ┆ 7639       │\n",
       "│            ┆ 00000      ┆          ┆          ┆   ┆         ┆          ┆            ┆            │\n",
       "│ 5631500400 ┆ 20150225T0 ┆ 180000.0 ┆ 2        ┆ … ┆ 47.7379 ┆ -122.233 ┆ 2720       ┆ 8062       │\n",
       "│            ┆ 00000      ┆          ┆          ┆   ┆         ┆          ┆            ┆            │\n",
       "└────────────┴────────────┴──────────┴──────────┴───┴─────────┴──────────┴────────────┴────────────┘"
      ]
     },
     "execution_count": 2,
     "metadata": {},
     "output_type": "execute_result"
    }
   ],
   "source": [
    "data.head(3)"
   ]
  },
  {
   "cell_type": "code",
   "execution_count": 4,
   "id": "dd38db23",
   "metadata": {},
   "outputs": [
    {
     "data": {
      "text/html": [
       "<div><style>\n",
       ".dataframe > thead > tr > th,\n",
       ".dataframe > tbody > tr > td {\n",
       "  text-align: right;\n",
       "}\n",
       "</style>\n",
       "<small>shape: (9, 22)</small><table border=\"1\" class=\"dataframe\"><thead><tr><th>describe</th><th>id</th><th>date</th><th>price</th><th>bedrooms</th><th>bathrooms</th><th>sqft_living</th><th>sqft_lot</th><th>floors</th><th>waterfront</th><th>view</th><th>condition</th><th>grade</th><th>sqft_above</th><th>sqft_basement</th><th>yr_built</th><th>yr_renovated</th><th>zipcode</th><th>lat</th><th>long</th><th>sqft_living15</th><th>sqft_lot15</th></tr><tr><td>str</td><td>f64</td><td>str</td><td>f64</td><td>f64</td><td>f64</td><td>f64</td><td>f64</td><td>f64</td><td>f64</td><td>f64</td><td>f64</td><td>f64</td><td>f64</td><td>f64</td><td>f64</td><td>f64</td><td>f64</td><td>f64</td><td>f64</td><td>f64</td><td>f64</td></tr></thead><tbody><tr><td>&quot;count&quot;</td><td>21613.0</td><td>&quot;21613&quot;</td><td>21613.0</td><td>21613.0</td><td>21613.0</td><td>21613.0</td><td>21613.0</td><td>21613.0</td><td>21613.0</td><td>21613.0</td><td>21613.0</td><td>21613.0</td><td>21613.0</td><td>21613.0</td><td>21613.0</td><td>21613.0</td><td>21613.0</td><td>21613.0</td><td>21613.0</td><td>21613.0</td><td>21613.0</td></tr><tr><td>&quot;null_count&quot;</td><td>0.0</td><td>&quot;0&quot;</td><td>0.0</td><td>0.0</td><td>0.0</td><td>0.0</td><td>0.0</td><td>0.0</td><td>0.0</td><td>0.0</td><td>0.0</td><td>0.0</td><td>0.0</td><td>0.0</td><td>0.0</td><td>0.0</td><td>0.0</td><td>0.0</td><td>0.0</td><td>0.0</td><td>0.0</td></tr><tr><td>&quot;mean&quot;</td><td>4.5803e9</td><td>null</td><td>540088.141767</td><td>3.370842</td><td>2.114757</td><td>2079.899736</td><td>15106.967566</td><td>1.494309</td><td>0.007542</td><td>0.234303</td><td>3.40943</td><td>7.656873</td><td>1788.390691</td><td>291.509045</td><td>1971.005136</td><td>84.402258</td><td>98077.939805</td><td>47.560053</td><td>-122.213896</td><td>1986.552492</td><td>12768.455652</td></tr><tr><td>&quot;std&quot;</td><td>2.8766e9</td><td>null</td><td>367127.196483</td><td>0.930062</td><td>0.770163</td><td>918.440897</td><td>41420.511515</td><td>0.539989</td><td>0.086517</td><td>0.766318</td><td>0.650743</td><td>1.175459</td><td>828.090978</td><td>442.575043</td><td>29.373411</td><td>401.67924</td><td>53.505026</td><td>0.138564</td><td>0.140828</td><td>685.391304</td><td>27304.179631</td></tr><tr><td>&quot;min&quot;</td><td>1.000102e6</td><td>&quot;20140502T00000…</td><td>75000.0</td><td>0.0</td><td>0.0</td><td>290.0</td><td>520.0</td><td>1.0</td><td>0.0</td><td>0.0</td><td>1.0</td><td>1.0</td><td>290.0</td><td>0.0</td><td>1900.0</td><td>0.0</td><td>98001.0</td><td>47.1559</td><td>-122.519</td><td>399.0</td><td>651.0</td></tr><tr><td>&quot;max&quot;</td><td>9.9000e9</td><td>&quot;20150527T00000…</td><td>7.7e6</td><td>33.0</td><td>8.0</td><td>13540.0</td><td>1.651359e6</td><td>3.5</td><td>1.0</td><td>4.0</td><td>5.0</td><td>13.0</td><td>9410.0</td><td>4820.0</td><td>2015.0</td><td>2015.0</td><td>98199.0</td><td>47.7776</td><td>-121.315</td><td>6210.0</td><td>871200.0</td></tr><tr><td>&quot;median&quot;</td><td>3.9049e9</td><td>null</td><td>450000.0</td><td>3.0</td><td>2.25</td><td>1910.0</td><td>7618.0</td><td>1.5</td><td>0.0</td><td>0.0</td><td>3.0</td><td>7.0</td><td>1560.0</td><td>0.0</td><td>1975.0</td><td>0.0</td><td>98065.0</td><td>47.5718</td><td>-122.23</td><td>1840.0</td><td>7620.0</td></tr><tr><td>&quot;25%&quot;</td><td>2.1230e9</td><td>null</td><td>321950.0</td><td>3.0</td><td>1.75</td><td>1427.0</td><td>5040.0</td><td>1.0</td><td>0.0</td><td>0.0</td><td>3.0</td><td>7.0</td><td>1190.0</td><td>0.0</td><td>1951.0</td><td>0.0</td><td>98033.0</td><td>47.471</td><td>-122.328</td><td>1490.0</td><td>5100.0</td></tr><tr><td>&quot;75%&quot;</td><td>7.3089e9</td><td>null</td><td>645000.0</td><td>4.0</td><td>2.5</td><td>2550.0</td><td>10688.0</td><td>2.0</td><td>0.0</td><td>0.0</td><td>4.0</td><td>8.0</td><td>2210.0</td><td>560.0</td><td>1997.0</td><td>0.0</td><td>98118.0</td><td>47.678</td><td>-122.125</td><td>2360.0</td><td>10083.0</td></tr></tbody></table></div>"
      ],
      "text/plain": [
       "shape: (9, 22)\n",
       "┌───────────┬───────────┬───────────┬───────────┬───┬───────────┬──────────┬────────────┬──────────┐\n",
       "│ describe  ┆ id        ┆ date      ┆ price     ┆ … ┆ lat       ┆ long     ┆ sqft_livin ┆ sqft_lot │\n",
       "│ ---       ┆ ---       ┆ ---       ┆ ---       ┆   ┆ ---       ┆ ---      ┆ g15        ┆ 15       │\n",
       "│ str       ┆ f64       ┆ str       ┆ f64       ┆   ┆ f64       ┆ f64      ┆ ---        ┆ ---      │\n",
       "│           ┆           ┆           ┆           ┆   ┆           ┆          ┆ f64        ┆ f64      │\n",
       "╞═══════════╪═══════════╪═══════════╪═══════════╪═══╪═══════════╪══════════╪════════════╪══════════╡\n",
       "│ count     ┆ 21613.0   ┆ 21613     ┆ 21613.0   ┆ … ┆ 21613.0   ┆ 21613.0  ┆ 21613.0    ┆ 21613.0  │\n",
       "│ null_coun ┆ 0.0       ┆ 0         ┆ 0.0       ┆ … ┆ 0.0       ┆ 0.0      ┆ 0.0        ┆ 0.0      │\n",
       "│ t         ┆           ┆           ┆           ┆   ┆           ┆          ┆            ┆          │\n",
       "│ mean      ┆ 4.5803e9  ┆ null      ┆ 540088.14 ┆ … ┆ 47.560053 ┆ -122.213 ┆ 1986.55249 ┆ 12768.45 │\n",
       "│           ┆           ┆           ┆ 1767      ┆   ┆           ┆ 896      ┆ 2          ┆ 5652     │\n",
       "│ std       ┆ 2.8766e9  ┆ null      ┆ 367127.19 ┆ … ┆ 0.138564  ┆ 0.140828 ┆ 685.391304 ┆ 27304.17 │\n",
       "│           ┆           ┆           ┆ 6483      ┆   ┆           ┆          ┆            ┆ 9631     │\n",
       "│ min       ┆ 1.000102e ┆ 20140502T ┆ 75000.0   ┆ … ┆ 47.1559   ┆ -122.519 ┆ 399.0      ┆ 651.0    │\n",
       "│           ┆ 6         ┆ 000000    ┆           ┆   ┆           ┆          ┆            ┆          │\n",
       "│ max       ┆ 9.9000e9  ┆ 20150527T ┆ 7.7e6     ┆ … ┆ 47.7776   ┆ -121.315 ┆ 6210.0     ┆ 871200.0 │\n",
       "│           ┆           ┆ 000000    ┆           ┆   ┆           ┆          ┆            ┆          │\n",
       "│ median    ┆ 3.9049e9  ┆ null      ┆ 450000.0  ┆ … ┆ 47.5718   ┆ -122.23  ┆ 1840.0     ┆ 7620.0   │\n",
       "│ 25%       ┆ 2.1230e9  ┆ null      ┆ 321950.0  ┆ … ┆ 47.471    ┆ -122.328 ┆ 1490.0     ┆ 5100.0   │\n",
       "│ 75%       ┆ 7.3089e9  ┆ null      ┆ 645000.0  ┆ … ┆ 47.678    ┆ -122.125 ┆ 2360.0     ┆ 10083.0  │\n",
       "└───────────┴───────────┴───────────┴───────────┴───┴───────────┴──────────┴────────────┴──────────┘"
      ]
     },
     "execution_count": 4,
     "metadata": {},
     "output_type": "execute_result"
    }
   ],
   "source": [
    "data.describe()"
   ]
  },
  {
   "cell_type": "code",
   "execution_count": 9,
   "id": "55110cf6",
   "metadata": {},
   "outputs": [
    {
     "data": {
      "text/html": [
       "<div><style>\n",
       ".dataframe > thead > tr > th,\n",
       ".dataframe > tbody > tr > td {\n",
       "  text-align: right;\n",
       "}\n",
       "</style>\n",
       "<small>shape: (71, 21)</small><table border=\"1\" class=\"dataframe\"><thead><tr><th>id</th><th>date</th><th>price</th><th>bedrooms</th><th>bathrooms</th><th>sqft_living</th><th>sqft_lot</th><th>floors</th><th>waterfront</th><th>view</th><th>condition</th><th>grade</th><th>sqft_above</th><th>sqft_basement</th><th>yr_built</th><th>yr_renovated</th><th>zipcode</th><th>lat</th><th>long</th><th>sqft_living15</th><th>sqft_lot15</th></tr><tr><td>i64</td><td>str</td><td>f64</td><td>i64</td><td>f64</td><td>i64</td><td>i64</td><td>f64</td><td>i64</td><td>i64</td><td>i64</td><td>i64</td><td>i64</td><td>i64</td><td>i64</td><td>i64</td><td>i64</td><td>f64</td><td>f64</td><td>i64</td><td>i64</td></tr></thead><tbody><tr><td>2122039094</td><td>&quot;20141126T00000…</td><td>705000.0</td><td>3</td><td>3.0</td><td>1970</td><td>20978</td><td>2.0</td><td>1</td><td>3</td><td>4</td><td>9</td><td>1770</td><td>200</td><td>1980</td><td>0</td><td>98070</td><td>47.3844</td><td>-122.438</td><td>2280</td><td>75396</td></tr><tr><td>622049114</td><td>&quot;20150218T00000…</td><td>2.125e6</td><td>3</td><td>2.5</td><td>5403</td><td>24069</td><td>2.0</td><td>1</td><td>4</td><td>4</td><td>12</td><td>5403</td><td>0</td><td>1976</td><td>0</td><td>98166</td><td>47.4169</td><td>-122.348</td><td>3980</td><td>104374</td></tr><tr><td>1247600105</td><td>&quot;20141020T00000…</td><td>5.1108e6</td><td>5</td><td>5.25</td><td>8010</td><td>45517</td><td>2.0</td><td>1</td><td>4</td><td>3</td><td>12</td><td>5990</td><td>2020</td><td>1999</td><td>0</td><td>98033</td><td>47.6767</td><td>-122.211</td><td>3430</td><td>26788</td></tr><tr><td>7636800041</td><td>&quot;20140625T00000…</td><td>995000.0</td><td>3</td><td>4.5</td><td>4380</td><td>47044</td><td>2.0</td><td>1</td><td>3</td><td>3</td><td>9</td><td>3720</td><td>660</td><td>1968</td><td>1990</td><td>98166</td><td>47.4734</td><td>-122.365</td><td>2460</td><td>18512</td></tr><tr><td>7558700030</td><td>&quot;20150413T00000…</td><td>5.3e6</td><td>6</td><td>6.0</td><td>7390</td><td>24829</td><td>2.0</td><td>1</td><td>4</td><td>4</td><td>12</td><td>5000</td><td>2390</td><td>1991</td><td>0</td><td>98040</td><td>47.5631</td><td>-122.21</td><td>4320</td><td>24619</td></tr><tr><td>1925069082</td><td>&quot;20150511T00000…</td><td>2.2e6</td><td>5</td><td>4.25</td><td>4640</td><td>22703</td><td>2.0</td><td>1</td><td>4</td><td>5</td><td>8</td><td>2860</td><td>1780</td><td>1952</td><td>0</td><td>98052</td><td>47.6393</td><td>-122.097</td><td>3140</td><td>14200</td></tr><tr><td>8073000550</td><td>&quot;20150415T00000…</td><td>1.7e6</td><td>4</td><td>3.75</td><td>3190</td><td>17186</td><td>2.0</td><td>1</td><td>4</td><td>3</td><td>10</td><td>3190</td><td>0</td><td>1999</td><td>0</td><td>98178</td><td>47.5115</td><td>-122.246</td><td>2290</td><td>13496</td></tr><tr><td>1925069121</td><td>&quot;20150330T00000…</td><td>960000.0</td><td>3</td><td>2.5</td><td>1730</td><td>4102</td><td>3.0</td><td>1</td><td>4</td><td>3</td><td>8</td><td>1730</td><td>0</td><td>1996</td><td>0</td><td>98074</td><td>47.645</td><td>-122.084</td><td>2340</td><td>16994</td></tr><tr><td>8106100105</td><td>&quot;20141114T00000…</td><td>3.85e6</td><td>4</td><td>4.25</td><td>5770</td><td>21300</td><td>2.0</td><td>1</td><td>4</td><td>4</td><td>11</td><td>5770</td><td>0</td><td>1980</td><td>0</td><td>98040</td><td>47.585</td><td>-122.222</td><td>4620</td><td>22748</td></tr><tr><td>1224059053</td><td>&quot;20141027T00000…</td><td>1.7e6</td><td>5</td><td>2.0</td><td>2500</td><td>15250</td><td>2.0</td><td>1</td><td>4</td><td>5</td><td>8</td><td>2500</td><td>0</td><td>1942</td><td>0</td><td>98008</td><td>47.5883</td><td>-122.111</td><td>1880</td><td>18782</td></tr><tr><td>3343301920</td><td>&quot;20150302T00000…</td><td>1.65e6</td><td>3</td><td>2.75</td><td>2690</td><td>8890</td><td>2.0</td><td>1</td><td>4</td><td>4</td><td>10</td><td>2690</td><td>0</td><td>1975</td><td>1991</td><td>98006</td><td>47.5487</td><td>-122.197</td><td>2940</td><td>8890</td></tr><tr><td>7738500731</td><td>&quot;20140815T00000…</td><td>4.5e6</td><td>5</td><td>5.5</td><td>6640</td><td>40014</td><td>2.0</td><td>1</td><td>4</td><td>3</td><td>12</td><td>6350</td><td>290</td><td>2004</td><td>0</td><td>98155</td><td>47.7493</td><td>-122.28</td><td>3030</td><td>23408</td></tr><tr><td>&hellip;</td><td>&hellip;</td><td>&hellip;</td><td>&hellip;</td><td>&hellip;</td><td>&hellip;</td><td>&hellip;</td><td>&hellip;</td><td>&hellip;</td><td>&hellip;</td><td>&hellip;</td><td>&hellip;</td><td>&hellip;</td><td>&hellip;</td><td>&hellip;</td><td>&hellip;</td><td>&hellip;</td><td>&hellip;</td><td>&hellip;</td><td>&hellip;</td><td>&hellip;</td></tr><tr><td>6613000930</td><td>&quot;20140902T00000…</td><td>2.95e6</td><td>4</td><td>3.25</td><td>3890</td><td>25470</td><td>2.0</td><td>1</td><td>3</td><td>5</td><td>10</td><td>3030</td><td>860</td><td>1923</td><td>0</td><td>98105</td><td>47.6608</td><td>-122.269</td><td>4140</td><td>19281</td></tr><tr><td>7204200025</td><td>&quot;20141028T00000…</td><td>1.225e6</td><td>4</td><td>2.5</td><td>3120</td><td>49456</td><td>2.0</td><td>1</td><td>4</td><td>4</td><td>9</td><td>2590</td><td>530</td><td>1974</td><td>1989</td><td>98198</td><td>47.3535</td><td>-122.323</td><td>2030</td><td>32181</td></tr><tr><td>1925069066</td><td>&quot;20140623T00000…</td><td>1.7e6</td><td>3</td><td>2.75</td><td>2810</td><td>18731</td><td>2.0</td><td>1</td><td>4</td><td>4</td><td>10</td><td>2810</td><td>0</td><td>1974</td><td>0</td><td>98052</td><td>47.6361</td><td>-122.093</td><td>3120</td><td>14810</td></tr><tr><td>1455100355</td><td>&quot;20140708T00000…</td><td>1.675e6</td><td>3</td><td>2.5</td><td>3490</td><td>8343</td><td>2.0</td><td>1</td><td>4</td><td>4</td><td>9</td><td>2150</td><td>1340</td><td>1939</td><td>1991</td><td>98125</td><td>47.7265</td><td>-122.281</td><td>2990</td><td>13104</td></tr><tr><td>7631800110</td><td>&quot;20140918T00000…</td><td>380000.0</td><td>3</td><td>2.5</td><td>1980</td><td>17342</td><td>2.0</td><td>1</td><td>4</td><td>3</td><td>10</td><td>1580</td><td>400</td><td>1984</td><td>0</td><td>98166</td><td>47.4551</td><td>-122.373</td><td>2060</td><td>17313</td></tr><tr><td>7351200295</td><td>&quot;20150114T00000…</td><td>1.15e6</td><td>3</td><td>1.75</td><td>1760</td><td>6788</td><td>2.0</td><td>1</td><td>4</td><td>3</td><td>7</td><td>1760</td><td>0</td><td>1940</td><td>1960</td><td>98125</td><td>47.7336</td><td>-122.284</td><td>1630</td><td>7588</td></tr><tr><td>2623039019</td><td>&quot;20140508T00000…</td><td>988500.0</td><td>3</td><td>2.75</td><td>2015</td><td>16807</td><td>2.0</td><td>1</td><td>4</td><td>3</td><td>9</td><td>2015</td><td>0</td><td>2007</td><td>0</td><td>98166</td><td>47.45</td><td>-122.377</td><td>1780</td><td>12310</td></tr><tr><td>2025069140</td><td>&quot;20150317T00000…</td><td>1.898e6</td><td>3</td><td>2.5</td><td>2830</td><td>4334</td><td>3.0</td><td>1</td><td>4</td><td>3</td><td>10</td><td>2830</td><td>0</td><td>2006</td><td>0</td><td>98074</td><td>47.6318</td><td>-122.071</td><td>2830</td><td>38211</td></tr><tr><td>518500480</td><td>&quot;20140811T00000…</td><td>3e6</td><td>3</td><td>3.5</td><td>4410</td><td>10756</td><td>2.0</td><td>1</td><td>4</td><td>3</td><td>11</td><td>3430</td><td>980</td><td>2014</td><td>0</td><td>98056</td><td>47.5283</td><td>-122.205</td><td>3550</td><td>5634</td></tr><tr><td>8043700105</td><td>&quot;20150417T00000…</td><td>2.3e6</td><td>4</td><td>4.0</td><td>4360</td><td>8175</td><td>2.5</td><td>1</td><td>4</td><td>3</td><td>10</td><td>3940</td><td>420</td><td>2007</td><td>0</td><td>98008</td><td>47.5724</td><td>-122.104</td><td>2670</td><td>8525</td></tr><tr><td>518500460</td><td>&quot;20141008T00000…</td><td>2.23e6</td><td>3</td><td>3.5</td><td>3760</td><td>5634</td><td>2.0</td><td>1</td><td>4</td><td>3</td><td>11</td><td>2830</td><td>930</td><td>2014</td><td>0</td><td>98056</td><td>47.5285</td><td>-122.205</td><td>3560</td><td>5762</td></tr><tr><td>9253900271</td><td>&quot;20150107T00000…</td><td>3.567e6</td><td>5</td><td>4.5</td><td>4850</td><td>10584</td><td>2.0</td><td>1</td><td>4</td><td>3</td><td>10</td><td>3540</td><td>1310</td><td>2007</td><td>0</td><td>98008</td><td>47.5943</td><td>-122.11</td><td>3470</td><td>18270</td></tr></tbody></table></div>"
      ],
      "text/plain": [
       "shape: (71, 21)\n",
       "┌────────────┬────────────┬──────────┬──────────┬───┬─────────┬──────────┬────────────┬────────────┐\n",
       "│ id         ┆ date       ┆ price    ┆ bedrooms ┆ … ┆ lat     ┆ long     ┆ sqft_livin ┆ sqft_lot15 │\n",
       "│ ---        ┆ ---        ┆ ---      ┆ ---      ┆   ┆ ---     ┆ ---      ┆ g15        ┆ ---        │\n",
       "│ i64        ┆ str        ┆ f64      ┆ i64      ┆   ┆ f64     ┆ f64      ┆ ---        ┆ i64        │\n",
       "│            ┆            ┆          ┆          ┆   ┆         ┆          ┆ i64        ┆            │\n",
       "╞════════════╪════════════╪══════════╪══════════╪═══╪═════════╪══════════╪════════════╪════════════╡\n",
       "│ 2122039094 ┆ 20141126T0 ┆ 705000.0 ┆ 3        ┆ … ┆ 47.3844 ┆ -122.438 ┆ 2280       ┆ 75396      │\n",
       "│            ┆ 00000      ┆          ┆          ┆   ┆         ┆          ┆            ┆            │\n",
       "│ 622049114  ┆ 20150218T0 ┆ 2.125e6  ┆ 3        ┆ … ┆ 47.4169 ┆ -122.348 ┆ 3980       ┆ 104374     │\n",
       "│            ┆ 00000      ┆          ┆          ┆   ┆         ┆          ┆            ┆            │\n",
       "│ 1247600105 ┆ 20141020T0 ┆ 5.1108e6 ┆ 5        ┆ … ┆ 47.6767 ┆ -122.211 ┆ 3430       ┆ 26788      │\n",
       "│            ┆ 00000      ┆          ┆          ┆   ┆         ┆          ┆            ┆            │\n",
       "│ 7636800041 ┆ 20140625T0 ┆ 995000.0 ┆ 3        ┆ … ┆ 47.4734 ┆ -122.365 ┆ 2460       ┆ 18512      │\n",
       "│            ┆ 00000      ┆          ┆          ┆   ┆         ┆          ┆            ┆            │\n",
       "│ …          ┆ …          ┆ …        ┆ …        ┆ … ┆ …       ┆ …        ┆ …          ┆ …          │\n",
       "│ 518500480  ┆ 20140811T0 ┆ 3e6      ┆ 3        ┆ … ┆ 47.5283 ┆ -122.205 ┆ 3550       ┆ 5634       │\n",
       "│            ┆ 00000      ┆          ┆          ┆   ┆         ┆          ┆            ┆            │\n",
       "│ 8043700105 ┆ 20150417T0 ┆ 2.3e6    ┆ 4        ┆ … ┆ 47.5724 ┆ -122.104 ┆ 2670       ┆ 8525       │\n",
       "│            ┆ 00000      ┆          ┆          ┆   ┆         ┆          ┆            ┆            │\n",
       "│ 518500460  ┆ 20141008T0 ┆ 2.23e6   ┆ 3        ┆ … ┆ 47.5285 ┆ -122.205 ┆ 3560       ┆ 5762       │\n",
       "│            ┆ 00000      ┆          ┆          ┆   ┆         ┆          ┆            ┆            │\n",
       "│ 9253900271 ┆ 20150107T0 ┆ 3.567e6  ┆ 5        ┆ … ┆ 47.5943 ┆ -122.11  ┆ 3470       ┆ 18270      │\n",
       "│            ┆ 00000      ┆          ┆          ┆   ┆         ┆          ┆            ┆            │\n",
       "└────────────┴────────────┴──────────┴──────────┴───┴─────────┴──────────┴────────────┴────────────┘"
      ]
     },
     "execution_count": 9,
     "metadata": {},
     "output_type": "execute_result"
    }
   ],
   "source": [
    "fancy = data.filter((pl.col(\"floors\") >= 2) & (pl.col(\"bedrooms\") >= 3) & (pl.col(\"waterfront\") == 1))\n",
    "\n",
    "fancy"
   ]
  },
  {
   "cell_type": "code",
   "execution_count": 10,
   "id": "548e7c35",
   "metadata": {},
   "outputs": [
    {
     "data": {
      "text/html": [
       "<div><style>\n",
       ".dataframe > thead > tr > th,\n",
       ".dataframe > tbody > tr > td {\n",
       "  text-align: right;\n",
       "}\n",
       "</style>\n",
       "<small>shape: (1, 3)</small><table border=\"1\" class=\"dataframe\"><thead><tr><th>min</th><th>max</th><th>median</th></tr><tr><td>f64</td><td>f64</td><td>f64</td></tr></thead><tbody><tr><td>380000.0</td><td>7.0625e6</td><td>1.95e6</td></tr></tbody></table></div>"
      ],
      "text/plain": [
       "shape: (1, 3)\n",
       "┌──────────┬──────────┬────────┐\n",
       "│ min      ┆ max      ┆ median │\n",
       "│ ---      ┆ ---      ┆ ---    │\n",
       "│ f64      ┆ f64      ┆ f64    │\n",
       "╞══════════╪══════════╪════════╡\n",
       "│ 380000.0 ┆ 7.0625e6 ┆ 1.95e6 │\n",
       "└──────────┴──────────┴────────┘"
      ]
     },
     "execution_count": 10,
     "metadata": {},
     "output_type": "execute_result"
    }
   ],
   "source": [
    "fancy.select([\n",
    "    pl.col(\"price\").min().alias(\"min\"), \n",
    "    pl.col(\"price\").max().alias(\"max\"), \n",
    "    pl.col(\"price\").median().alias(\"median\")\n",
    "])"
   ]
  },
  {
   "cell_type": "code",
   "execution_count": 11,
   "id": "b118e40d",
   "metadata": {},
   "outputs": [
    {
     "data": {
      "text/html": [
       "<div><style>\n",
       ".dataframe > thead > tr > th,\n",
       ".dataframe > tbody > tr > td {\n",
       "  text-align: right;\n",
       "}\n",
       "</style>\n",
       "<small>shape: (9, 22)</small><table border=\"1\" class=\"dataframe\"><thead><tr><th>describe</th><th>id</th><th>date</th><th>price</th><th>bedrooms</th><th>bathrooms</th><th>sqft_living</th><th>sqft_lot</th><th>floors</th><th>waterfront</th><th>view</th><th>condition</th><th>grade</th><th>sqft_above</th><th>sqft_basement</th><th>yr_built</th><th>yr_renovated</th><th>zipcode</th><th>lat</th><th>long</th><th>sqft_living15</th><th>sqft_lot15</th></tr><tr><td>str</td><td>f64</td><td>str</td><td>f64</td><td>f64</td><td>f64</td><td>f64</td><td>f64</td><td>f64</td><td>f64</td><td>f64</td><td>f64</td><td>f64</td><td>f64</td><td>f64</td><td>f64</td><td>f64</td><td>f64</td><td>f64</td><td>f64</td><td>f64</td><td>f64</td></tr></thead><tbody><tr><td>&quot;count&quot;</td><td>71.0</td><td>&quot;71&quot;</td><td>71.0</td><td>71.0</td><td>71.0</td><td>71.0</td><td>71.0</td><td>71.0</td><td>71.0</td><td>71.0</td><td>71.0</td><td>71.0</td><td>71.0</td><td>71.0</td><td>71.0</td><td>71.0</td><td>71.0</td><td>71.0</td><td>71.0</td><td>71.0</td><td>71.0</td></tr><tr><td>&quot;null_count&quot;</td><td>0.0</td><td>&quot;0&quot;</td><td>0.0</td><td>0.0</td><td>0.0</td><td>0.0</td><td>0.0</td><td>0.0</td><td>0.0</td><td>0.0</td><td>0.0</td><td>0.0</td><td>0.0</td><td>0.0</td><td>0.0</td><td>0.0</td><td>0.0</td><td>0.0</td><td>0.0</td><td>0.0</td><td>0.0</td></tr><tr><td>&quot;mean&quot;</td><td>4.2699e9</td><td>null</td><td>2.1532e6</td><td>3.859155</td><td>3.302817</td><td>3898.225352</td><td>21903.859155</td><td>2.091549</td><td>1.0</td><td>3.873239</td><td>3.408451</td><td>9.732394</td><td>3274.901408</td><td>623.323944</td><td>1973.591549</td><td>531.957746</td><td>98088.084507</td><td>47.56763</td><td>-122.250944</td><td>2984.084507</td><td>22216.901408</td></tr><tr><td>&quot;std&quot;</td><td>2.8538e9</td><td>null</td><td>1.2119e6</td><td>0.930373</td><td>0.901304</td><td>1576.976748</td><td>17838.510382</td><td>0.284227</td><td>0.0</td><td>0.411602</td><td>0.667136</td><td>1.433853</td><td>1249.689392</td><td>728.258505</td><td>28.450748</td><td>886.3212</td><td>60.685312</td><td>0.109181</td><td>0.104656</td><td>714.085984</td><td>26442.983029</td></tr><tr><td>&quot;min&quot;</td><td>1.21039083e8</td><td>&quot;20140508T00000…</td><td>380000.0</td><td>3.0</td><td>1.75</td><td>1460.0</td><td>1989.0</td><td>2.0</td><td>1.0</td><td>2.0</td><td>2.0</td><td>7.0</td><td>1120.0</td><td>0.0</td><td>1913.0</td><td>0.0</td><td>98004.0</td><td>47.3311</td><td>-122.511</td><td>1200.0</td><td>2433.0</td></tr><tr><td>&quot;max&quot;</td><td>9.8087e9</td><td>&quot;20150511T00000…</td><td>7.0625e6</td><td>6.0</td><td>6.0</td><td>10040.0</td><td>91681.0</td><td>3.0</td><td>1.0</td><td>4.0</td><td>5.0</td><td>12.0</td><td>7680.0</td><td>2390.0</td><td>2014.0</td><td>2002.0</td><td>98199.0</td><td>47.7561</td><td>-122.059</td><td>4620.0</td><td>192268.0</td></tr><tr><td>&quot;median&quot;</td><td>3.6251e9</td><td>null</td><td>1.95e6</td><td>4.0</td><td>3.25</td><td>3750.0</td><td>16807.0</td><td>2.0</td><td>1.0</td><td>4.0</td><td>3.0</td><td>10.0</td><td>3030.0</td><td>300.0</td><td>1979.0</td><td>0.0</td><td>98074.0</td><td>47.5716</td><td>-122.256</td><td>2980.0</td><td>14810.0</td></tr><tr><td>&quot;25%&quot;</td><td>1.9251e9</td><td>null</td><td>1.15e6</td><td>3.0</td><td>2.5</td><td>2790.0</td><td>10584.0</td><td>2.0</td><td>1.0</td><td>4.0</td><td>3.0</td><td>8.0</td><td>2490.0</td><td>0.0</td><td>1949.0</td><td>0.0</td><td>98034.0</td><td>47.5115</td><td>-122.324</td><td>2500.0</td><td>11476.0</td></tr><tr><td>&quot;75%&quot;</td><td>7.1293e9</td><td>null</td><td>2.7e6</td><td>5.0</td><td>4.0</td><td>4830.0</td><td>26211.0</td><td>2.0</td><td>1.0</td><td>4.0</td><td>4.0</td><td>11.0</td><td>3850.0</td><td>1270.0</td><td>1999.0</td><td>1963.0</td><td>98146.0</td><td>47.65</td><td>-122.204</td><td>3540.0</td><td>24293.0</td></tr></tbody></table></div>"
      ],
      "text/plain": [
       "shape: (9, 22)\n",
       "┌────────────┬───────────┬───────────┬──────────┬───┬──────────┬───────────┬────────────┬──────────┐\n",
       "│ describe   ┆ id        ┆ date      ┆ price    ┆ … ┆ lat      ┆ long      ┆ sqft_livin ┆ sqft_lot │\n",
       "│ ---        ┆ ---       ┆ ---       ┆ ---      ┆   ┆ ---      ┆ ---       ┆ g15        ┆ 15       │\n",
       "│ str        ┆ f64       ┆ str       ┆ f64      ┆   ┆ f64      ┆ f64       ┆ ---        ┆ ---      │\n",
       "│            ┆           ┆           ┆          ┆   ┆          ┆           ┆ f64        ┆ f64      │\n",
       "╞════════════╪═══════════╪═══════════╪══════════╪═══╪══════════╪═══════════╪════════════╪══════════╡\n",
       "│ count      ┆ 71.0      ┆ 71        ┆ 71.0     ┆ … ┆ 71.0     ┆ 71.0      ┆ 71.0       ┆ 71.0     │\n",
       "│ null_count ┆ 0.0       ┆ 0         ┆ 0.0      ┆ … ┆ 0.0      ┆ 0.0       ┆ 0.0        ┆ 0.0      │\n",
       "│ mean       ┆ 4.2699e9  ┆ null      ┆ 2.1532e6 ┆ … ┆ 47.56763 ┆ -122.2509 ┆ 2984.08450 ┆ 22216.90 │\n",
       "│            ┆           ┆           ┆          ┆   ┆          ┆ 44        ┆ 7          ┆ 1408     │\n",
       "│ std        ┆ 2.8538e9  ┆ null      ┆ 1.2119e6 ┆ … ┆ 0.109181 ┆ 0.104656  ┆ 714.085984 ┆ 26442.98 │\n",
       "│            ┆           ┆           ┆          ┆   ┆          ┆           ┆            ┆ 3029     │\n",
       "│ min        ┆ 1.2103908 ┆ 20140508T ┆ 380000.0 ┆ … ┆ 47.3311  ┆ -122.511  ┆ 1200.0     ┆ 2433.0   │\n",
       "│            ┆ 3e8       ┆ 000000    ┆          ┆   ┆          ┆           ┆            ┆          │\n",
       "│ max        ┆ 9.8087e9  ┆ 20150511T ┆ 7.0625e6 ┆ … ┆ 47.7561  ┆ -122.059  ┆ 4620.0     ┆ 192268.0 │\n",
       "│            ┆           ┆ 000000    ┆          ┆   ┆          ┆           ┆            ┆          │\n",
       "│ median     ┆ 3.6251e9  ┆ null      ┆ 1.95e6   ┆ … ┆ 47.5716  ┆ -122.256  ┆ 2980.0     ┆ 14810.0  │\n",
       "│ 25%        ┆ 1.9251e9  ┆ null      ┆ 1.15e6   ┆ … ┆ 47.5115  ┆ -122.324  ┆ 2500.0     ┆ 11476.0  │\n",
       "│ 75%        ┆ 7.1293e9  ┆ null      ┆ 2.7e6    ┆ … ┆ 47.65    ┆ -122.204  ┆ 3540.0     ┆ 24293.0  │\n",
       "└────────────┴───────────┴───────────┴──────────┴───┴──────────┴───────────┴────────────┴──────────┘"
      ]
     },
     "execution_count": 11,
     "metadata": {},
     "output_type": "execute_result"
    }
   ],
   "source": [
    "fancy.describe()"
   ]
  },
  {
   "cell_type": "code",
   "execution_count": null,
   "id": "bab2c408",
   "metadata": {},
   "outputs": [],
   "source": []
  }
 ],
 "metadata": {
  "kernelspec": {
   "display_name": "Python 3 (ipykernel)",
   "language": "python",
   "name": "python3"
  },
  "language_info": {
   "codemirror_mode": {
    "name": "ipython",
    "version": 3
   },
   "file_extension": ".py",
   "mimetype": "text/x-python",
   "name": "python",
   "nbconvert_exporter": "python",
   "pygments_lexer": "ipython3",
   "version": "3.11.2"
  }
 },
 "nbformat": 4,
 "nbformat_minor": 5
}
